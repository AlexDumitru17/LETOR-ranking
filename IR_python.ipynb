{
  "nbformat": 4,
  "nbformat_minor": 0,
  "metadata": {
    "colab": {
      "provenance": [],
      "authorship_tag": "ABX9TyNepgh0juBSaIe9q1FiqayJ",
      "include_colab_link": true
    },
    "kernelspec": {
      "name": "python3",
      "display_name": "Python 3"
    },
    "language_info": {
      "name": "python"
    }
  },
  "cells": [
    {
      "cell_type": "markdown",
      "metadata": {
        "id": "view-in-github",
        "colab_type": "text"
      },
      "source": [
        "<a href=\"https://colab.research.google.com/github/AlexDumitru17/LETOR-ranking/blob/main/IR_python.ipynb\" target=\"_parent\"><img src=\"https://colab.research.google.com/assets/colab-badge.svg\" alt=\"Open In Colab\"/></a>"
      ]
    },
    {
      "cell_type": "code",
      "source": [
        "!pip install allrank\n",
        "!unzip MQ2007.zip\n",
        "!unzip MQ2008.zip"
      ],
      "metadata": {
        "id": "FD-QEKCBuOSG"
      },
      "execution_count": null,
      "outputs": []
    },
    {
      "cell_type": "code",
      "source": [
        "import json\n",
        "import subprocess\n",
        "\n",
        "datasets = ['MQ2007', 'MQ2008', 'MSLR-WEB10K', 'Yahoo', 'istella-s-letor']\n",
        "losses = ['ordinal', 'pointwise_rmse']\n",
        "n_folds = 5\n",
        "\n",
        "with open('config_template.json', 'r') as f:\n",
        "    data = json.load(f)\n",
        "\n",
        "for dataset in datasets:\n",
        "    for fold in range(1, n_folds + 1):\n",
        "        for loss in losses:\n",
        "            data['data']['path'] = f'{dataset}/Fold{fold}/'\n",
        "            data['loss']['name'] = loss\n",
        "            if loss == 'ordinal':\n",
        "                data['loss']['args'] = {'n': 3}\n",
        "            if loss == 'pointwise_rmse':\n",
        "                data['loss']['args'] = {'no_of_levels': 3}\n",
        "            with open('config.json', 'w') as f:\n",
        "                json.dump(data, f)\n",
        "            command = f'allRank --config-file-name config.json --run-id {dataset}-Fold{fold}-{loss} --job-dir output'\n",
        "            with subprocess.Popen(command, shell=True, stdout=subprocess.PIPE, stderr=subprocess.STDOUT, text=True) as process:\n",
        "                for line in process.stdout:\n",
        "                    print(line.strip())"
      ],
      "metadata": {
        "id": "b_Ukma9Iod50"
      },
      "execution_count": null,
      "outputs": []
    },
    {
      "cell_type": "code",
      "source": [
        "!zip -r output.zip output\n",
        "from google.colab import files\n",
        "files.download('output.zip')"
      ],
      "metadata": {
        "id": "4NlluQap_ImR"
      },
      "execution_count": null,
      "outputs": []
    }
  ]
}